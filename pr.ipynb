{
 "cells": [
  {
   "cell_type": "code",
   "execution_count": 88,
   "metadata": {},
   "outputs": [],
   "source": [
    "def pr(agents, items, instance): \n",
    "    final_allocation = {} \n",
    "    items_check = items.copy() \n",
    "    for agent in agents:\n",
    "        for item in items_check:\n",
    "            if item in instance[agent].values():\n",
    "                items_check.remove(item)\n",
    "    for item in items_check:\n",
    "        items.remove(item) # remove an item from items list if no agent has that item in preference list \n",
    "    for agent in instance:\n",
    "        for pref in instance[agent]:\n",
    "            if instance[agent][pref] not in items:\n",
    "                items.append(instance[agent][pref]) # add in bundles to item list\n",
    "    while len(items) != 0: \n",
    "        for i in instance:\n",
    "            for j in instance[i]:\n",
    "                if instance[i][j] not in final_allocation.values():\n",
    "                    if len(items) == 0: # give agent nothing if no items left to give\n",
    "                        final_allocation[i] = [] \n",
    "                        break\n",
    "                    final_allocation[i] = instance[i][j] # give agent i their preference\n",
    "                    items_removal = [] # if an item in a bundle is given away, \n",
    "                                       # remove remaining bundles with that item\n",
    "                                       # works with single items as well\n",
    "                    for dup_item in items:\n",
    "                        for pref in instance[i][j]:\n",
    "                            if pref in dup_item:\n",
    "                                items_removal.append(dup_item)\n",
    "                    res = []\n",
    "                    for q in items_removal:\n",
    "                        if q not in res:\n",
    "                            res.append(q)\n",
    "                    for q in res:\n",
    "                        items.remove(q) \n",
    "                    break # if an agent has successfully been allocated an item, go on to next agent\n",
    "                else:\n",
    "                    continue\n",
    "        if i not in final_allocation:\n",
    "            final_allocation[i] = []  \n",
    "    return final_allocation"
   ]
  },
  {
   "cell_type": "code",
   "execution_count": 89,
   "metadata": {},
   "outputs": [
    {
     "name": "stdout",
     "output_type": "stream",
     "text": [
      "{'A': [1], 'B': [2], 'C': [3]}\n"
     ]
    }
   ],
   "source": [
    "n = ['A', 'B', 'C']\n",
    "instance1 = {\n",
    "    \"A\": {\"1\": [1], \"2\": [2]}, \n",
    "    \"B\": {\"1\": [2], \"2\": [1]},\n",
    "    \"C\": {\"1\": [1], \"2\": [3]}\n",
    "}\n",
    "items = [[1], [2], [3]]\n",
    "print(pr(n, items, instance1))"
   ]
  },
  {
   "cell_type": "code",
   "execution_count": 91,
   "metadata": {},
   "outputs": [
    {
     "name": "stdout",
     "output_type": "stream",
     "text": [
      "{'A': [1], 'B': [2], 'C': [3], 'D': []}\n"
     ]
    }
   ],
   "source": [
    "n = ['A', 'B', 'C', 'D']\n",
    "items = [[1], [2], [3], [4]]\n",
    "instance2 = {\n",
    "    \"A\": {\"1\": [1], \"2\": [2]}, \n",
    "    \"B\": {\"1\": [2], \"2\": [1]},\n",
    "    \"C\": {\"1\": [1], \"2\": [3]},\n",
    "    \"D\": {\"1\": [1], \"2\": [3,4]}\n",
    "}\n",
    "print(pr(n, items, instance2))"
   ]
  },
  {
   "cell_type": "code",
   "execution_count": 92,
   "metadata": {},
   "outputs": [
    {
     "name": "stdout",
     "output_type": "stream",
     "text": [
      "{'A': [1], 'B': [2], 'C': [3, 4], 'D': []}\n"
     ]
    }
   ],
   "source": [
    "n = ['A', 'B', 'C', 'D']\n",
    "items = [[1], [2], [3], [4]]\n",
    "instance2 = {\n",
    "    \"A\": {\"1\": [1], \"2\": [2]}, \n",
    "    \"B\": {\"1\": [2], \"2\": [1]},\n",
    "    \"C\": {\"1\": [1], \"2\": [3,4]},\n",
    "    \"D\": {\"1\": [1], \"2\": [3]}\n",
    "}\n",
    "print(pr(n, items, instance2))"
   ]
  },
  {
   "cell_type": "code",
   "execution_count": null,
   "metadata": {},
   "outputs": [],
   "source": []
  }
 ],
 "metadata": {
  "kernelspec": {
   "display_name": "Python 3",
   "language": "python",
   "name": "python3"
  },
  "language_info": {
   "codemirror_mode": {
    "name": "ipython",
    "version": 3
   },
   "file_extension": ".py",
   "mimetype": "text/x-python",
   "name": "python",
   "nbconvert_exporter": "python",
   "pygments_lexer": "ipython3",
   "version": "3.7.4"
  }
 },
 "nbformat": 4,
 "nbformat_minor": 2
}
